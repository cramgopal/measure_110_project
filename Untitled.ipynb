{
 "cells": [
  {
   "cell_type": "code",
   "execution_count": 2,
   "id": "ada4d6bd-962b-412c-b04f-5f4b7f8e38df",
   "metadata": {},
   "outputs": [],
   "source": [
    "import csv"
   ]
  },
  {
   "cell_type": "code",
   "execution_count": 3,
   "id": "f276798e-b073-4520-aed6-5b059e653705",
   "metadata": {},
   "outputs": [],
   "source": [
    "from datetime import datetime"
   ]
  },
  {
   "cell_type": "code",
   "execution_count": 4,
   "id": "5305a602-d0ff-4cc3-83f8-a4d38951ad77",
   "metadata": {},
   "outputs": [],
   "source": [
    "import pandas as pd "
   ]
  },
  {
   "cell_type": "code",
   "execution_count": 5,
   "id": "45ea27a7-b1f6-4d23-8d40-a7cd47d7db2e",
   "metadata": {},
   "outputs": [],
   "source": [
    "from collections import defaultdict "
   ]
  },
  {
   "cell_type": "code",
   "execution_count": 6,
   "id": "f91d32c3-8cef-4d02-a750-8fcbb8b0f9de",
   "metadata": {},
   "outputs": [],
   "source": [
    "import altair as alt"
   ]
  },
  {
   "cell_type": "code",
   "execution_count": 7,
   "id": "b4db2a62-bbf7-4d54-bae7-1b93a2ad4b85",
   "metadata": {},
   "outputs": [
    {
     "name": "stderr",
     "output_type": "stream",
     "text": [
      "/var/folders/rx/x8fz7l6525s7sxc7h7cf4qw40000gn/T/ipykernel_43691/3776334881.py:5: SettingWithCopyWarning: \n",
      "A value is trying to be set on a copy of a slice from a DataFrame.\n",
      "Try using .loc[row_indexer,col_indexer] = value instead\n",
      "\n",
      "See the caveats in the documentation: https://pandas.pydata.org/pandas-docs/stable/user_guide/indexing.html#returning-a-view-versus-a-copy\n",
      "  df_2020_YTD[\"Month by Year\"] = portland_crimes.OccurDate.dt.strftime(\"%B, %Y\")\n"
     ]
    }
   ],
   "source": [
    "#Create original database and filter to include from 2002-YTD \n",
    "portland_crimes = pd.read_csv('CrimeDataPortland2020-YTD.csv', parse_dates=['OccurDate', 'ReportDate'])\n",
    "portland_crimes_2020_YTD_filter = portland_crimes.OccurDate >= datetime.strptime('1/1/2020', '%m/%d/%Y')\n",
    "df_2020_YTD = portland_crimes[portland_crimes_2020_YTD_filter] \n",
    "df_2020_YTD[\"Month by Year\"] = portland_crimes.OccurDate.dt.strftime(\"%B, %Y\")\n",
    "#df_2020_YTD.insert(6, \"Month, Year\", [df_2020_YTD.OccurDate.dt.strftime(\"%B, %Y\")]) "
   ]
  },
  {
   "cell_type": "code",
   "execution_count": 8,
   "id": "fc845041-bbac-43cd-a25f-82018ab597d6",
   "metadata": {},
   "outputs": [
    {
     "ename": "NameError",
     "evalue": "name 'month' is not defined",
     "output_type": "error",
     "traceback": [
      "\u001b[0;31m---------------------------------------------------------------------------\u001b[0m",
      "\u001b[0;31mNameError\u001b[0m                                 Traceback (most recent call last)",
      "Input \u001b[0;32mIn [8]\u001b[0m, in \u001b[0;36m<cell line: 8>\u001b[0;34m()\u001b[0m\n\u001b[1;32m      6\u001b[0m pre_enactment_df \u001b[38;5;241m=\u001b[39m df_2020_YTD[pre_enactment_filter]\n\u001b[1;32m      7\u001b[0m post_enactment_df \u001b[38;5;241m=\u001b[39m df_2020_YTD[post_enactment_filter]\n\u001b[0;32m----> 8\u001b[0m pre_enactment_df\u001b[38;5;241m.\u001b[39minsert(\u001b[38;5;241m1\u001b[39m, \u001b[38;5;124m\"\u001b[39m\u001b[38;5;124mMonth, Year\u001b[39m\u001b[38;5;124m\"\u001b[39m, [\u001b[43mmonth\u001b[49m, year], \u001b[38;5;28;01mTrue\u001b[39;00m)\n\u001b[1;32m      9\u001b[0m pre_enactment_df\n",
      "\u001b[0;31mNameError\u001b[0m: name 'month' is not defined"
     ]
    }
   ],
   "source": [
    "#Separate crimes before and after Measure 110 into two separate data frames\n",
    "enactment_date = datetime.strptime('2/1/2021', \"%m/%d/%Y\")\n",
    "\n",
    "post_enactment_filter = df_2020_YTD.OccurDate >= enactment_date\n",
    "pre_enactment_filter = df_2020_YTD.OccurDate < enactment_date\n",
    "pre_enactment_df = df_2020_YTD[pre_enactment_filter]\n",
    "post_enactment_df = df_2020_YTD[post_enactment_filter]\n",
    "pre_enactment_df.insert(1, \"Month, Year\", [month, year], True)\n",
    "pre_enactment_df\n",
    "\n",
    "#df['ConvertedDate'] = df['DateTypeCol'].dt.strftime('%m/%d/%Y')"
   ]
  },
  {
   "cell_type": "code",
   "execution_count": null,
   "id": "ef82ab4d-9444-43ed-98ba-cdcb52d5bbc2",
   "metadata": {},
   "outputs": [],
   "source": [
    "#Create dataframe sorting crime by month per year \n",
    "def sort_month_by_year(enactment_df):\n",
    "    print(enactment_df)\n",
    "    year = enactment_df.OccurDate.dt.year\n",
    "    month = enactment_df.OccurDate.dt.month\n",
    "    print(month)\n",
    "    enactment_df.insert(1, \"Month, Year\", [month, year], True)\n",
    "    enactment_df = enactment_df.groupby([year, month]).CaseNumber.count()\n",
    "    return enactment_df"
   ]
  },
  {
   "cell_type": "code",
   "execution_count": null,
   "id": "a0d4c57a-9033-4ac0-ad62-43adc25f157e",
   "metadata": {},
   "outputs": [],
   "source": [
    "def month_by_year_string(enactment_df):\n",
    "    year = enactment_df.OccurDate.dt.year\n",
    "    month = enactment_df.OccurDate.dt.month\n",
    "    print(year)\n",
    "    return month"
   ]
  },
  {
   "cell_type": "code",
   "execution_count": null,
   "id": "fd63ac9c-e78b-462a-93b4-9e9f9a690db1",
   "metadata": {},
   "outputs": [],
   "source": [
    "pre_measure_crime_by_month = pd.DataFrame(sort_month_by_year(pre_enactment_df))\n",
    "post_measure_crime_by_month = pd.DataFrame(sort_month_by_year(post_enactment_df))\n",
    "pre_measure_crime_by_month\n",
    "#pre_measure_crime_by_month.rename(index = {1 : \"Jan\", 2 : \"Feb\", 3 : \"Mar\", 4 : \"Apr\", 5 : \"May\", 6 : \"June\",\n",
    "                                          # 7 : \"July\", 8: \"Aug\", 9 : \"Sep\", 10 : \"Oct\", 11 : \"Nov\", 12 : \"Dec\"})"
   ]
  },
  {
   "cell_type": "code",
   "execution_count": null,
   "id": "93111b4e-ed80-4ce3-9eed-664c82c293a1",
   "metadata": {},
   "outputs": [],
   "source": [
    "alt.Chart(pre_measure_crime_by_month).mark_bar().encode(x = 'index',\n",
    "                                                        y = 'CaseNumber')"
   ]
  },
  {
   "cell_type": "code",
   "execution_count": null,
   "id": "6c1cc097-e440-4928-ab1e-18b70f7cf3a1",
   "metadata": {},
   "outputs": [],
   "source": [
    "#Filter out and create separate data frame for drug related offenses for both pre and post measure 110\n",
    "drug_crime = 'Drug/Narcotic Offenses'\n",
    "pre_drug_df = pre_enactment_df[pre_enactment_df.OffenseCategory == drug_crime]\n",
    "post_drug_df = post_enactment_df[post_enactment_df.OffenseCategory == drug_crime]"
   ]
  },
  {
   "cell_type": "code",
   "execution_count": null,
   "id": "7ecb2362-f074-46de-bf75-a4a9a4359f8c",
   "metadata": {},
   "outputs": [],
   "source": [
    "#Aggregate counts of drug cases pre and post measure 110\n",
    "pre_measure_drug_cases_count = pre_drug_df.CaseNumber.count()\n",
    "post_measure_drug_cases_count = post_drug_df.CaseNumber.count()"
   ]
  },
  {
   "cell_type": "code",
   "execution_count": 14,
   "id": "703098e8-771e-4f51-bcc0-940bd4bb86f8",
   "metadata": {},
   "outputs": [],
   "source": [
    "#Aggregate count of all crime pre and post measure 110\n",
    "pre_measure_case_count = pre_enactment_df.CaseNumber.count()\n",
    "post_measure_case_count = post_enactment_df.CaseNumber.count()"
   ]
  },
  {
   "cell_type": "code",
   "execution_count": null,
   "id": "3d39daea-a7d2-49a8-ade0-472214e2fdec",
   "metadata": {},
   "outputs": [],
   "source": [
    "#Convert overall crime into dictionaries by offense type\n",
    "pre_count_by_crime = dict(pre_enactment_df.OffenseCategory.value_counts().reset_index().to_numpy().tolist())\n",
    "post_count_by_crime = dict(post_enactment_df.OffenseCategory.value_counts().reset_index().to_numpy().tolist())\n",
    "\n",
    "#Figure out crime breakdown by crime against type\n",
    "pre_count_by_crimesagainst = pd.DataFrame(pre_enactment_df.CrimeAgainst.value_counts())\n",
    "post_count_by_crimesagainst = pd.DataFrame(post_enactment_df.CrimeAgainst.value_counts())\n",
    "pre_vs_post_crimesagainst = pd.merge(pre_count_by_crimesagainst, post_count_by_crimesagainst, left_index = True, right_index = True, suffixes = ('_pre', '_post'))\n"
   ]
  },
  {
   "cell_type": "code",
   "execution_count": null,
   "id": "ead607c0-3b04-43bc-a319-0cb13faffa07",
   "metadata": {},
   "outputs": [],
   "source": [
    "#Determine if the crime after the measure 110 enactment increased or decreased \n",
    "\n",
    "def determine_increase_or_decrease(values):  \n",
    "    for key, value in values.items():\n",
    "        if len(value) > 1 and value[0] > value[1]: \n",
    "            values[key].append(\"Decreased\")\n",
    "        else:\n",
    "            values[key].append(\"Increased\")\n",
    "    return values\n",
    "        "
   ]
  },
  {
   "cell_type": "code",
   "execution_count": 9,
   "id": "0413619e-d584-4a85-be46-99aeba405c7b",
   "metadata": {},
   "outputs": [],
   "source": [
    "#Calculate percent change in crime comparing 2020 to measure 110 enactment, and measure 110 enactment to YTD \n",
    "def calculate_per_change(values): \n",
    "    for key, value in values.items():\n",
    "        if len(value) > 2: \n",
    "            percentage = ((value[1] - value[0]) / value[0])\n",
    "            values[key].append(\"{0:.0%}\".format(percentage))\n",
    "        else: \n",
    "            values[key].append(\"N/A\")\n",
    "    return values\n",
    "        \n",
    "    "
   ]
  },
  {
   "cell_type": "code",
   "execution_count": 10,
   "id": "5dc8a2a0-e7e1-48c6-818a-0d2b33573a4a",
   "metadata": {},
   "outputs": [],
   "source": [
    "def count_by_offense_type(dd, boolean, per_change):\n",
    "    df = pd.DataFrame.from_dict(dd, orient = 'index',\n",
    "                                             columns = [\"Pre-Measure 110\", \"Post-Measure 110\", \"Change In Crime\", \"Percent Change\"] ) \n",
    "    df.index=dd.keys()\n",
    "    df = df.drop(index = \"Bribery\")\n",
    "    return df "
   ]
  },
  {
   "cell_type": "code",
   "execution_count": 11,
   "id": "86d1b8b3-66c4-4069-8c88-191b0e0d4ff6",
   "metadata": {},
   "outputs": [],
   "source": [
    "def create_default_dict(ddict, pre_count_by_crime, post_count_by_crime):\n",
    "    for d in (pre_count_by_crime, post_count_by_crime):\n",
    "        for key, value in d.items():\n",
    "            ddict[key].append(value)\n",
    "    return ddict\n",
    "    "
   ]
  },
  {
   "cell_type": "code",
   "execution_count": 12,
   "id": "f105a77f-1fe4-4810-a28a-b169b2693d5a",
   "metadata": {},
   "outputs": [
    {
     "ename": "NameError",
     "evalue": "name 'pre_count_by_crime' is not defined",
     "output_type": "error",
     "traceback": [
      "\u001b[0;31m---------------------------------------------------------------------------\u001b[0m",
      "\u001b[0;31mNameError\u001b[0m                                 Traceback (most recent call last)",
      "Input \u001b[0;32mIn [12]\u001b[0m, in \u001b[0;36m<cell line: 1>\u001b[0;34m()\u001b[0m\n\u001b[0;32m----> 1\u001b[0m dd \u001b[38;5;241m=\u001b[39m create_default_dict(defaultdict(\u001b[38;5;28mlist\u001b[39m), \u001b[43mpre_count_by_crime\u001b[49m, post_count_by_crime) \n\u001b[1;32m      2\u001b[0m change_in_crime \u001b[38;5;241m=\u001b[39m determine_increase_or_decrease(dd)\n\u001b[1;32m      3\u001b[0m percent_change \u001b[38;5;241m=\u001b[39m calculate_per_change(dd) \n",
      "\u001b[0;31mNameError\u001b[0m: name 'pre_count_by_crime' is not defined"
     ]
    }
   ],
   "source": [
    "dd = create_default_dict(defaultdict(list), pre_count_by_crime, post_count_by_crime) \n",
    "change_in_crime = determine_increase_or_decrease(dd)\n",
    "percent_change = calculate_per_change(dd) \n",
    "pre_vs_post_crimes_df = count_by_offense_type(dd, change_in_crime, percent_change) \n"
   ]
  },
  {
   "cell_type": "code",
   "execution_count": 13,
   "id": "02b05a45-dcc5-427e-b0fa-e0b235d35beb",
   "metadata": {},
   "outputs": [
    {
     "ename": "NameError",
     "evalue": "name 'pre_vs_post_crimes_df' is not defined",
     "output_type": "error",
     "traceback": [
      "\u001b[0;31m---------------------------------------------------------------------------\u001b[0m",
      "\u001b[0;31mNameError\u001b[0m                                 Traceback (most recent call last)",
      "Input \u001b[0;32mIn [13]\u001b[0m, in \u001b[0;36m<cell line: 1>\u001b[0;34m()\u001b[0m\n\u001b[0;32m----> 1\u001b[0m \u001b[43mpre_vs_post_crimes_df\u001b[49m\n",
      "\u001b[0;31mNameError\u001b[0m: name 'pre_vs_post_crimes_df' is not defined"
     ]
    }
   ],
   "source": [
    "pre_vs_post_crimes_df"
   ]
  },
  {
   "cell_type": "code",
   "execution_count": null,
   "id": "5664c9e5-95fd-4868-b893-042e732220bf",
   "metadata": {},
   "outputs": [],
   "source": []
  },
  {
   "cell_type": "code",
   "execution_count": null,
   "id": "03a8f81e-94b5-4e97-bd68-06153e149d3f",
   "metadata": {},
   "outputs": [],
   "source": []
  },
  {
   "cell_type": "code",
   "execution_count": null,
   "id": "77b7cca0-4a97-4cf7-804e-8ae539451487",
   "metadata": {},
   "outputs": [],
   "source": []
  },
  {
   "cell_type": "code",
   "execution_count": null,
   "id": "6be29eec-6e5f-4176-9924-496005c7269d",
   "metadata": {},
   "outputs": [],
   "source": []
  }
 ],
 "metadata": {
  "kernelspec": {
   "display_name": "Python 3 (ipykernel)",
   "language": "python",
   "name": "python3"
  },
  "language_info": {
   "codemirror_mode": {
    "name": "ipython",
    "version": 3
   },
   "file_extension": ".py",
   "mimetype": "text/x-python",
   "name": "python",
   "nbconvert_exporter": "python",
   "pygments_lexer": "ipython3",
   "version": "3.9.9"
  }
 },
 "nbformat": 4,
 "nbformat_minor": 5
}
