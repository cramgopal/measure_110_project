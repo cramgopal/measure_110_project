{
 "cells": [
  {
   "cell_type": "code",
   "execution_count": 323,
   "id": "ada4d6bd-962b-412c-b04f-5f4b7f8e38df",
   "metadata": {},
   "outputs": [],
   "source": [
    "import csv"
   ]
  },
  {
   "cell_type": "code",
   "execution_count": 324,
   "id": "f276798e-b073-4520-aed6-5b059e653705",
   "metadata": {},
   "outputs": [],
   "source": [
    "from datetime import datetime"
   ]
  },
  {
   "cell_type": "code",
   "execution_count": 325,
   "id": "5305a602-d0ff-4cc3-83f8-a4d38951ad77",
   "metadata": {},
   "outputs": [],
   "source": [
    "import pandas as pd "
   ]
  },
  {
   "cell_type": "code",
   "execution_count": 326,
   "id": "45ea27a7-b1f6-4d23-8d40-a7cd47d7db2e",
   "metadata": {},
   "outputs": [],
   "source": [
    "from collections import defaultdict "
   ]
  },
  {
   "cell_type": "code",
   "execution_count": 327,
   "id": "b4db2a62-bbf7-4d54-bae7-1b93a2ad4b85",
   "metadata": {},
   "outputs": [],
   "source": [
    "#Create original database and filter to include from 2002-YTD \n",
    "portland_crimes = pd.read_csv('CrimeDataPortland2020-YTD.csv', parse_dates=['OccurDate', 'ReportDate'])\n",
    "portland_crimes_2020_YTD_filter = portland_crimes.OccurDate >= datetime.strptime('1/1/2020', '%m/%d/%Y')\n",
    "df_2020_YTD = portland_crimes[portland_crimes_2020_YTD_filter] "
   ]
  },
  {
   "cell_type": "code",
   "execution_count": 328,
   "id": "fc845041-bbac-43cd-a25f-82018ab597d6",
   "metadata": {},
   "outputs": [],
   "source": [
    "#Separate crimes before and after Measure 110 into two separate data frames\n",
    "enactment_date = datetime.strptime('2/1/2021', \"%m/%d/%Y\")\n",
    "\n",
    "post_enactment_filter = df_2020_YTD.OccurDate >= enactment_date\n",
    "pre_enactment_filter = df_2020_YTD.OccurDate < enactment_date\n",
    "post_enactment_df = df_2020_YTD[post_enactment_filter]\n",
    "pre_enactment_df = df_2020_YTD[pre_enactment_filter]"
   ]
  },
  {
   "cell_type": "code",
   "execution_count": 329,
   "id": "6c1cc097-e440-4928-ab1e-18b70f7cf3a1",
   "metadata": {},
   "outputs": [],
   "source": [
    "#Filter out and create separate data frame for drug related offenses for both pre and post measure 110\n",
    "drug_crime = 'Drug/Narcotic Offenses'\n",
    "pre_drug_df = pre_enactment_df[pre_enactment_df.OffenseCategory == drug_crime]\n",
    "post_drug_df = post_enactment_df[post_enactment_df.OffenseCategory == drug_crime]\n",
    "pre_measure_drug_cases_count = pre_drug_df.CaseNumber.count()"
   ]
  },
  {
   "cell_type": "code",
   "execution_count": 330,
   "id": "6aab663e-751a-42f3-8aed-ff33ee5f8f93",
   "metadata": {},
   "outputs": [],
   "source": [
    "pre_drug_df = pre_enactment_df[pre_enactment_df.OffenseCategory == drug_crime]"
   ]
  },
  {
   "cell_type": "code",
   "execution_count": 331,
   "id": "7941aa79-d209-4e34-a723-6578f492eba3",
   "metadata": {},
   "outputs": [],
   "source": [
    "post_drug_df = post_enactment_df[post_enactment_df.OffenseCategory == drug_crime]"
   ]
  },
  {
   "cell_type": "code",
   "execution_count": 332,
   "id": "7ecb2362-f074-46de-bf75-a4a9a4359f8c",
   "metadata": {},
   "outputs": [],
   "source": [
    "#Aggregate counts of drug cases pre and post measure 110\n",
    "pre_measure_drug_cases_count = pre_drug_df.CaseNumber.count()\n",
    "post_measure_drug_cases_count = post_drug_df.CaseNumber.count()"
   ]
  },
  {
   "cell_type": "code",
   "execution_count": 339,
   "id": "703098e8-771e-4f51-bcc0-940bd4bb86f8",
   "metadata": {},
   "outputs": [
    {
     "name": "stdout",
     "output_type": "stream",
     "text": [
      "64561 64000\n"
     ]
    }
   ],
   "source": [
    "#Aggregate count of all crime pre and post measure 110\n",
    "pre_measure_case_count = pre_enactment_df.CaseNumber.count()\n",
    "post_measure_case_count = post_enactment_df.CaseNumber.count()\n",
    "print(post_measure_case_count, pre_measure_case_count)"
   ]
  },
  {
   "cell_type": "code",
   "execution_count": 356,
   "id": "3d39daea-a7d2-49a8-ade0-472214e2fdec",
   "metadata": {},
   "outputs": [
    {
     "data": {
      "text/html": [
       "<div>\n",
       "<style scoped>\n",
       "    .dataframe tbody tr th:only-of-type {\n",
       "        vertical-align: middle;\n",
       "    }\n",
       "\n",
       "    .dataframe tbody tr th {\n",
       "        vertical-align: top;\n",
       "    }\n",
       "\n",
       "    .dataframe thead th {\n",
       "        text-align: right;\n",
       "    }\n",
       "</style>\n",
       "<table border=\"1\" class=\"dataframe\">\n",
       "  <thead>\n",
       "    <tr style=\"text-align: right;\">\n",
       "      <th></th>\n",
       "      <th>CrimeAgainst_pre</th>\n",
       "      <th>CrimeAgainst_post</th>\n",
       "    </tr>\n",
       "  </thead>\n",
       "  <tbody>\n",
       "    <tr>\n",
       "      <th>Property</th>\n",
       "      <td>52819</td>\n",
       "      <td>54216</td>\n",
       "    </tr>\n",
       "    <tr>\n",
       "      <th>Person</th>\n",
       "      <td>9142</td>\n",
       "      <td>8933</td>\n",
       "    </tr>\n",
       "    <tr>\n",
       "      <th>Society</th>\n",
       "      <td>2039</td>\n",
       "      <td>1412</td>\n",
       "    </tr>\n",
       "  </tbody>\n",
       "</table>\n",
       "</div>"
      ],
      "text/plain": [
       "          CrimeAgainst_pre  CrimeAgainst_post\n",
       "Property             52819              54216\n",
       "Person                9142               8933\n",
       "Society               2039               1412"
      ]
     },
     "execution_count": 356,
     "metadata": {},
     "output_type": "execute_result"
    }
   ],
   "source": [
    "#Convert overall crime into dictionaries by offense type\n",
    "pre_count_by_crime = dict(pre_enactment_df.OffenseCategory.value_counts().reset_index().to_numpy().tolist())\n",
    "post_count_by_crime = dict(post_enactment_df.OffenseCategory.value_counts().reset_index().to_numpy().tolist())\n",
    "pre_count_by_crimesagainst = pd.DataFrame(pre_enactment_df.CrimeAgainst.value_counts())\n",
    "post_count_by_crimesagainst = pd.DataFrame(post_enactment_df.CrimeAgainst.value_counts())\n",
    "pre_vs_post_crimesagainst = pd.merge(pre_count_by_crimesagainst, post_count_by_crimesagainst, left_index = True, right_index = True, suffixes = ('_pre', '_post'))\n",
    "pre_vs_post_crimesagainst\n",
    "\n"
   ]
  },
  {
   "cell_type": "code",
   "execution_count": 345,
   "id": "d94214e4-1f49-49bf-ae65-8d955c21d0d0",
   "metadata": {},
   "outputs": [
    {
     "name": "stdout",
     "output_type": "stream",
     "text": [
      "<class 'pandas.core.frame.DataFrame'>\n",
      "Index: 3 entries, Property to Society\n",
      "Data columns (total 1 columns):\n",
      " #   Column        Non-Null Count  Dtype\n",
      "---  ------        --------------  -----\n",
      " 0   CrimeAgainst  3 non-null      int64\n",
      "dtypes: int64(1)\n",
      "memory usage: 48.0+ bytes\n"
     ]
    }
   ],
   "source": [
    "post_count_by_crimesagainst.info()"
   ]
  },
  {
   "cell_type": "code",
   "execution_count": 313,
   "id": "ead607c0-3b04-43bc-a319-0cb13faffa07",
   "metadata": {},
   "outputs": [],
   "source": [
    "#Determine if the crime after the measure 110 enactment increased or decreased \n",
    "\n",
    "def determine_increase_or_decrease(values):  \n",
    "    for key, value in values.items():\n",
    "        if len(value) > 1 and value[0] > value[1]: \n",
    "            values[key].append(\"Decreased\")\n",
    "        else:\n",
    "            values[key].append(\"Increased\")\n",
    "    return values\n",
    "        "
   ]
  },
  {
   "cell_type": "code",
   "execution_count": 395,
   "id": "0413619e-d584-4a85-be46-99aeba405c7b",
   "metadata": {},
   "outputs": [],
   "source": [
    "#Calculate percent change in crime comparing 2020 to measure 110 enactment, and measure 110 enactment to YTD \n",
    "def calculate_per_change(values): \n",
    "    for key, value in values.items():\n",
    "        if len(value) > 2: \n",
    "            print(type(value[0]), type(value[1]))\n",
    "            percentage = ((value[1] - value[0]) / value[0])\n",
    "            values[key].append(\"{0:.0%}\".format(percentage))\n",
    "        else: \n",
    "            values[key].append(\"N/A\")\n",
    "    return values\n",
    "        \n",
    "    "
   ]
  },
  {
   "cell_type": "code",
   "execution_count": 396,
   "id": "f105a77f-1fe4-4810-a28a-b169b2693d5a",
   "metadata": {},
   "outputs": [
    {
     "name": "stdout",
     "output_type": "stream",
     "text": [
      "defaultdict(<class 'list'>, {'Larceny Offenses': [24640, 24474, 'Decreased'], 'Vandalism': [8967, 10141, 'Increased'], 'Assault Offenses': [8498, 8294, 'Decreased'], 'Motor Vehicle Theft': [7062, 9504, 'Increased'], 'Burglary': [5915, 5022, 'Decreased'], 'Fraud Offenses': [3903, 2947, 'Decreased'], 'Robbery': [1085, 1261, 'Increased'], 'Drug/Narcotic Offenses': [1018, 365, 'Decreased'], 'Weapon Law Violations': [876, 841, 'Decreased'], 'Arson': [560, 429, 'Decreased'], 'Counterfeiting/Forgery': [532, 285, 'Decreased'], 'Sex Offenses': [490, 465, 'Decreased'], 'Pornography/Obscene Material': [89, 39, 'Decreased'], 'Kidnapping/Abduction': [72, 69, 'Decreased'], 'Stolen Property Offenses': [63, 68, 'Increased'], 'Homicide Offenses': [60, 82, 'Increased'], 'Embezzlement': [58, 40, 'Decreased'], 'Extortion/Blackmail': [33, 45, 'Increased'], 'Animal Cruelty Offenses': [29, 34, 'Increased'], 'Prostitution Offenses': [27, 133, 'Increased'], 'Human Trafficking Offenses': [22, 23, 'Increased'], 'Bribery': [1, 'Increased']})\n",
      "<class 'int'> <class 'int'>\n",
      "<class 'int'> <class 'int'>\n",
      "<class 'int'> <class 'int'>\n",
      "<class 'int'> <class 'int'>\n",
      "<class 'int'> <class 'int'>\n",
      "<class 'int'> <class 'int'>\n",
      "<class 'int'> <class 'int'>\n",
      "<class 'int'> <class 'int'>\n",
      "<class 'int'> <class 'int'>\n",
      "<class 'int'> <class 'int'>\n",
      "<class 'int'> <class 'int'>\n",
      "<class 'int'> <class 'int'>\n",
      "<class 'int'> <class 'int'>\n",
      "<class 'int'> <class 'int'>\n",
      "<class 'int'> <class 'int'>\n",
      "<class 'int'> <class 'int'>\n",
      "<class 'int'> <class 'int'>\n",
      "<class 'int'> <class 'int'>\n",
      "<class 'int'> <class 'int'>\n",
      "<class 'int'> <class 'int'>\n",
      "<class 'int'> <class 'int'>\n"
     ]
    }
   ],
   "source": [
    "dd = defaultdict(list)\n",
    "for d in (pre_count_by_crime, post_count_by_crime):\n",
    "    for key, value in d.items():\n",
    "        dd[key].append(value)\n",
    "change_in_crime = determine_increase_or_decrease(dd)\n",
    "print(dd)\n",
    "percent_change = calculate_per_change(dd) \n",
    "pre_vs_post_crimes_df = pd.DataFrame.from_dict(dd, orient = 'index',\n",
    "                                             columns = [\"Pre-Measure 110\", \"Post-Measure 110\", \"Change In Crime\", \"Percent Change\"] ) \n",
    "pre_vs_post_crimes_df.index = dd.keys()"
   ]
  },
  {
   "cell_type": "code",
   "execution_count": 397,
   "id": "3bcf9000-dfe1-4e60-8459-a01175bf69d2",
   "metadata": {},
   "outputs": [
    {
     "data": {
      "text/html": [
       "<div>\n",
       "<style scoped>\n",
       "    .dataframe tbody tr th:only-of-type {\n",
       "        vertical-align: middle;\n",
       "    }\n",
       "\n",
       "    .dataframe tbody tr th {\n",
       "        vertical-align: top;\n",
       "    }\n",
       "\n",
       "    .dataframe thead th {\n",
       "        text-align: right;\n",
       "    }\n",
       "</style>\n",
       "<table border=\"1\" class=\"dataframe\">\n",
       "  <thead>\n",
       "    <tr style=\"text-align: right;\">\n",
       "      <th></th>\n",
       "      <th>Pre-Measure 110</th>\n",
       "      <th>Post-Measure 110</th>\n",
       "      <th>Change In Crime</th>\n",
       "      <th>Percent Change</th>\n",
       "    </tr>\n",
       "  </thead>\n",
       "  <tbody>\n",
       "    <tr>\n",
       "      <th>Larceny Offenses</th>\n",
       "      <td>24640</td>\n",
       "      <td>24474</td>\n",
       "      <td>Decreased</td>\n",
       "      <td>-1%</td>\n",
       "    </tr>\n",
       "    <tr>\n",
       "      <th>Vandalism</th>\n",
       "      <td>8967</td>\n",
       "      <td>10141</td>\n",
       "      <td>Increased</td>\n",
       "      <td>13%</td>\n",
       "    </tr>\n",
       "    <tr>\n",
       "      <th>Assault Offenses</th>\n",
       "      <td>8498</td>\n",
       "      <td>8294</td>\n",
       "      <td>Decreased</td>\n",
       "      <td>-2%</td>\n",
       "    </tr>\n",
       "    <tr>\n",
       "      <th>Motor Vehicle Theft</th>\n",
       "      <td>7062</td>\n",
       "      <td>9504</td>\n",
       "      <td>Increased</td>\n",
       "      <td>35%</td>\n",
       "    </tr>\n",
       "    <tr>\n",
       "      <th>Burglary</th>\n",
       "      <td>5915</td>\n",
       "      <td>5022</td>\n",
       "      <td>Decreased</td>\n",
       "      <td>-15%</td>\n",
       "    </tr>\n",
       "    <tr>\n",
       "      <th>Fraud Offenses</th>\n",
       "      <td>3903</td>\n",
       "      <td>2947</td>\n",
       "      <td>Decreased</td>\n",
       "      <td>-24%</td>\n",
       "    </tr>\n",
       "    <tr>\n",
       "      <th>Robbery</th>\n",
       "      <td>1085</td>\n",
       "      <td>1261</td>\n",
       "      <td>Increased</td>\n",
       "      <td>16%</td>\n",
       "    </tr>\n",
       "    <tr>\n",
       "      <th>Drug/Narcotic Offenses</th>\n",
       "      <td>1018</td>\n",
       "      <td>365</td>\n",
       "      <td>Decreased</td>\n",
       "      <td>-64%</td>\n",
       "    </tr>\n",
       "    <tr>\n",
       "      <th>Weapon Law Violations</th>\n",
       "      <td>876</td>\n",
       "      <td>841</td>\n",
       "      <td>Decreased</td>\n",
       "      <td>-4%</td>\n",
       "    </tr>\n",
       "    <tr>\n",
       "      <th>Arson</th>\n",
       "      <td>560</td>\n",
       "      <td>429</td>\n",
       "      <td>Decreased</td>\n",
       "      <td>-23%</td>\n",
       "    </tr>\n",
       "    <tr>\n",
       "      <th>Counterfeiting/Forgery</th>\n",
       "      <td>532</td>\n",
       "      <td>285</td>\n",
       "      <td>Decreased</td>\n",
       "      <td>-46%</td>\n",
       "    </tr>\n",
       "    <tr>\n",
       "      <th>Sex Offenses</th>\n",
       "      <td>490</td>\n",
       "      <td>465</td>\n",
       "      <td>Decreased</td>\n",
       "      <td>-5%</td>\n",
       "    </tr>\n",
       "    <tr>\n",
       "      <th>Pornography/Obscene Material</th>\n",
       "      <td>89</td>\n",
       "      <td>39</td>\n",
       "      <td>Decreased</td>\n",
       "      <td>-56%</td>\n",
       "    </tr>\n",
       "    <tr>\n",
       "      <th>Kidnapping/Abduction</th>\n",
       "      <td>72</td>\n",
       "      <td>69</td>\n",
       "      <td>Decreased</td>\n",
       "      <td>-4%</td>\n",
       "    </tr>\n",
       "    <tr>\n",
       "      <th>Stolen Property Offenses</th>\n",
       "      <td>63</td>\n",
       "      <td>68</td>\n",
       "      <td>Increased</td>\n",
       "      <td>8%</td>\n",
       "    </tr>\n",
       "    <tr>\n",
       "      <th>Homicide Offenses</th>\n",
       "      <td>60</td>\n",
       "      <td>82</td>\n",
       "      <td>Increased</td>\n",
       "      <td>37%</td>\n",
       "    </tr>\n",
       "    <tr>\n",
       "      <th>Embezzlement</th>\n",
       "      <td>58</td>\n",
       "      <td>40</td>\n",
       "      <td>Decreased</td>\n",
       "      <td>-31%</td>\n",
       "    </tr>\n",
       "    <tr>\n",
       "      <th>Extortion/Blackmail</th>\n",
       "      <td>33</td>\n",
       "      <td>45</td>\n",
       "      <td>Increased</td>\n",
       "      <td>36%</td>\n",
       "    </tr>\n",
       "    <tr>\n",
       "      <th>Animal Cruelty Offenses</th>\n",
       "      <td>29</td>\n",
       "      <td>34</td>\n",
       "      <td>Increased</td>\n",
       "      <td>17%</td>\n",
       "    </tr>\n",
       "    <tr>\n",
       "      <th>Prostitution Offenses</th>\n",
       "      <td>27</td>\n",
       "      <td>133</td>\n",
       "      <td>Increased</td>\n",
       "      <td>393%</td>\n",
       "    </tr>\n",
       "    <tr>\n",
       "      <th>Human Trafficking Offenses</th>\n",
       "      <td>22</td>\n",
       "      <td>23</td>\n",
       "      <td>Increased</td>\n",
       "      <td>5%</td>\n",
       "    </tr>\n",
       "    <tr>\n",
       "      <th>Bribery</th>\n",
       "      <td>1</td>\n",
       "      <td>Increased</td>\n",
       "      <td>N/A</td>\n",
       "      <td>None</td>\n",
       "    </tr>\n",
       "  </tbody>\n",
       "</table>\n",
       "</div>"
      ],
      "text/plain": [
       "                              Pre-Measure 110 Post-Measure 110  \\\n",
       "Larceny Offenses                        24640            24474   \n",
       "Vandalism                                8967            10141   \n",
       "Assault Offenses                         8498             8294   \n",
       "Motor Vehicle Theft                      7062             9504   \n",
       "Burglary                                 5915             5022   \n",
       "Fraud Offenses                           3903             2947   \n",
       "Robbery                                  1085             1261   \n",
       "Drug/Narcotic Offenses                   1018              365   \n",
       "Weapon Law Violations                     876              841   \n",
       "Arson                                     560              429   \n",
       "Counterfeiting/Forgery                    532              285   \n",
       "Sex Offenses                              490              465   \n",
       "Pornography/Obscene Material               89               39   \n",
       "Kidnapping/Abduction                       72               69   \n",
       "Stolen Property Offenses                   63               68   \n",
       "Homicide Offenses                          60               82   \n",
       "Embezzlement                               58               40   \n",
       "Extortion/Blackmail                        33               45   \n",
       "Animal Cruelty Offenses                    29               34   \n",
       "Prostitution Offenses                      27              133   \n",
       "Human Trafficking Offenses                 22               23   \n",
       "Bribery                                     1        Increased   \n",
       "\n",
       "                             Change In Crime Percent Change  \n",
       "Larceny Offenses                   Decreased            -1%  \n",
       "Vandalism                          Increased            13%  \n",
       "Assault Offenses                   Decreased            -2%  \n",
       "Motor Vehicle Theft                Increased            35%  \n",
       "Burglary                           Decreased           -15%  \n",
       "Fraud Offenses                     Decreased           -24%  \n",
       "Robbery                            Increased            16%  \n",
       "Drug/Narcotic Offenses             Decreased           -64%  \n",
       "Weapon Law Violations              Decreased            -4%  \n",
       "Arson                              Decreased           -23%  \n",
       "Counterfeiting/Forgery             Decreased           -46%  \n",
       "Sex Offenses                       Decreased            -5%  \n",
       "Pornography/Obscene Material       Decreased           -56%  \n",
       "Kidnapping/Abduction               Decreased            -4%  \n",
       "Stolen Property Offenses           Increased             8%  \n",
       "Homicide Offenses                  Increased            37%  \n",
       "Embezzlement                       Decreased           -31%  \n",
       "Extortion/Blackmail                Increased            36%  \n",
       "Animal Cruelty Offenses            Increased            17%  \n",
       "Prostitution Offenses              Increased           393%  \n",
       "Human Trafficking Offenses         Increased             5%  \n",
       "Bribery                                  N/A           None  "
      ]
     },
     "execution_count": 397,
     "metadata": {},
     "output_type": "execute_result"
    }
   ],
   "source": [
    "pre_vs_post_crimes_df"
   ]
  },
  {
   "cell_type": "code",
   "execution_count": null,
   "id": "7656f7ba-7b08-4c65-9798-06603a475d8c",
   "metadata": {},
   "outputs": [],
   "source": []
  }
 ],
 "metadata": {
  "kernelspec": {
   "display_name": "Python 3 (ipykernel)",
   "language": "python",
   "name": "python3"
  },
  "language_info": {
   "codemirror_mode": {
    "name": "ipython",
    "version": 3
   },
   "file_extension": ".py",
   "mimetype": "text/x-python",
   "name": "python",
   "nbconvert_exporter": "python",
   "pygments_lexer": "ipython3",
   "version": "3.9.9"
  }
 },
 "nbformat": 4,
 "nbformat_minor": 5
}
